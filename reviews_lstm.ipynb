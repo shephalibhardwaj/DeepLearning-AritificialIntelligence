{
 "cells": [
  {
   "cell_type": "code",
   "execution_count": 56,
   "metadata": {
    "id": "CIg0WA0NwVdi"
   },
   "outputs": [],
   "source": [
    "import torch\n",
    "import random\n",
    "import numpy as np\n",
    "\n",
    "seedInt = 55667\n",
    "torch.manual_seed(seedInt)\n",
    "random.seed(seedInt)\n",
    "np.random.seed(seedInt)\n",
    "torch.use_deterministic_algorithms(False)\n",
    "\n",
    "import torch.nn as nn\n",
    "import torch.nn.functional as F\n",
    "import torch.optim as optim\n",
    "\n",
    "import os\n",
    "import re\n",
    "import warnings\n",
    "\n",
    "warnings.filterwarnings(\"ignore\")\n",
    "\n",
    "import pandas as pd\n",
    "\n",
    "from gensim.models import KeyedVectors\n",
    "\n",
    "from sklearn.model_selection import StratifiedKFold\n",
    "from sklearn.metrics import roc_auc_score, roc_curve, auc, confusion_matrix\n",
    "\n",
    "%matplotlib inline\n",
    "from matplotlib import pyplot as plt\n",
    "import seaborn as sns"
   ]
  },
  {
   "cell_type": "code",
   "execution_count": 2,
   "metadata": {
    "colab": {
     "base_uri": "https://localhost:8080/"
    },
    "id": "JU5rtd3QwlXW",
    "outputId": "a4d0a8b5-a9ae-4dff-dfc9-670d913a2237"
   },
   "outputs": [
    {
     "name": "stdout",
     "output_type": "stream",
     "text": [
      "Mounted at /content/drive\n"
     ]
    }
   ],
   "source": [
    "from google.colab import drive\n",
    "drive.mount('/content/drive')"
   ]
  },
  {
   "cell_type": "code",
   "execution_count": 4,
   "metadata": {
    "colab": {
     "base_uri": "https://localhost:8080/",
     "height": 1000
    },
    "id": "uyibI0EGwnmf",
    "outputId": "fa4a0877-dc01-426e-ff83-aa9f2437081c"
   },
   "outputs": [
    {
     "data": {
      "text/html": [
       "\n",
       "  <div id=\"df-683124d1-ae79-4ca5-ac3e-89823a0ed7ca\">\n",
       "    <div class=\"colab-df-container\">\n",
       "      <div>\n",
       "<style scoped>\n",
       "    .dataframe tbody tr th:only-of-type {\n",
       "        vertical-align: middle;\n",
       "    }\n",
       "\n",
       "    .dataframe tbody tr th {\n",
       "        vertical-align: top;\n",
       "    }\n",
       "\n",
       "    .dataframe thead th {\n",
       "        text-align: right;\n",
       "    }\n",
       "</style>\n",
       "<table border=\"1\" class=\"dataframe\">\n",
       "  <thead>\n",
       "    <tr style=\"text-align: right;\">\n",
       "      <th></th>\n",
       "      <th>reviewerID</th>\n",
       "      <th>asin</th>\n",
       "      <th>reviewerName</th>\n",
       "      <th>helpful</th>\n",
       "      <th>reviewText</th>\n",
       "      <th>overall</th>\n",
       "      <th>summary</th>\n",
       "      <th>unixReviewTime</th>\n",
       "      <th>reviewTime</th>\n",
       "    </tr>\n",
       "  </thead>\n",
       "  <tbody>\n",
       "    <tr>\n",
       "      <th>0</th>\n",
       "      <td>A30TL5EWN6DFXT</td>\n",
       "      <td>120401325X</td>\n",
       "      <td>christina</td>\n",
       "      <td>[0, 0]</td>\n",
       "      <td>They look good and stick good! I just don't li...</td>\n",
       "      <td>4.0</td>\n",
       "      <td>Looks Good</td>\n",
       "      <td>1400630400</td>\n",
       "      <td>05 21, 2014</td>\n",
       "    </tr>\n",
       "    <tr>\n",
       "      <th>1</th>\n",
       "      <td>ASY55RVNIL0UD</td>\n",
       "      <td>120401325X</td>\n",
       "      <td>emily l.</td>\n",
       "      <td>[0, 0]</td>\n",
       "      <td>These stickers work like the review says they ...</td>\n",
       "      <td>5.0</td>\n",
       "      <td>Really great product.</td>\n",
       "      <td>1389657600</td>\n",
       "      <td>01 14, 2014</td>\n",
       "    </tr>\n",
       "    <tr>\n",
       "      <th>2</th>\n",
       "      <td>A2TMXE2AFO7ONB</td>\n",
       "      <td>120401325X</td>\n",
       "      <td>Erica</td>\n",
       "      <td>[0, 0]</td>\n",
       "      <td>These are awesome and make my phone look so st...</td>\n",
       "      <td>5.0</td>\n",
       "      <td>LOVE LOVE LOVE</td>\n",
       "      <td>1403740800</td>\n",
       "      <td>06 26, 2014</td>\n",
       "    </tr>\n",
       "    <tr>\n",
       "      <th>3</th>\n",
       "      <td>AWJ0WZQYMYFQ4</td>\n",
       "      <td>120401325X</td>\n",
       "      <td>JM</td>\n",
       "      <td>[4, 4]</td>\n",
       "      <td>Item arrived in great time and was in perfect ...</td>\n",
       "      <td>4.0</td>\n",
       "      <td>Cute!</td>\n",
       "      <td>1382313600</td>\n",
       "      <td>10 21, 2013</td>\n",
       "    </tr>\n",
       "    <tr>\n",
       "      <th>4</th>\n",
       "      <td>ATX7CZYFXI1KW</td>\n",
       "      <td>120401325X</td>\n",
       "      <td>patrice m rogoza</td>\n",
       "      <td>[2, 3]</td>\n",
       "      <td>awesome! stays on, and looks great. can be use...</td>\n",
       "      <td>5.0</td>\n",
       "      <td>leopard home button sticker for iphone 4s</td>\n",
       "      <td>1359849600</td>\n",
       "      <td>02 3, 2013</td>\n",
       "    </tr>\n",
       "    <tr>\n",
       "      <th>5</th>\n",
       "      <td>APX47D16JOP7H</td>\n",
       "      <td>120401325X</td>\n",
       "      <td>RLH</td>\n",
       "      <td>[1, 2]</td>\n",
       "      <td>These make using the home button easy. My daug...</td>\n",
       "      <td>3.0</td>\n",
       "      <td>Cute</td>\n",
       "      <td>1381536000</td>\n",
       "      <td>10 12, 2013</td>\n",
       "    </tr>\n",
       "    <tr>\n",
       "      <th>6</th>\n",
       "      <td>A1JVVYYO7G56DS</td>\n",
       "      <td>120401325X</td>\n",
       "      <td>Tyler Evans</td>\n",
       "      <td>[0, 0]</td>\n",
       "      <td>Came just as described.. It doesn't come unstu...</td>\n",
       "      <td>5.0</td>\n",
       "      <td>best thing ever..</td>\n",
       "      <td>1377129600</td>\n",
       "      <td>08 22, 2013</td>\n",
       "    </tr>\n",
       "    <tr>\n",
       "      <th>7</th>\n",
       "      <td>A6FGO4TBZ3QFZ</td>\n",
       "      <td>3998899561</td>\n",
       "      <td>Abdullah Albyati</td>\n",
       "      <td>[1, 2]</td>\n",
       "      <td>it worked for the first week then it only char...</td>\n",
       "      <td>1.0</td>\n",
       "      <td>not a good Idea</td>\n",
       "      <td>1384992000</td>\n",
       "      <td>11 21, 2013</td>\n",
       "    </tr>\n",
       "    <tr>\n",
       "      <th>8</th>\n",
       "      <td>A2JWEDW5FSVB0F</td>\n",
       "      <td>3998899561</td>\n",
       "      <td>Adam</td>\n",
       "      <td>[2, 3]</td>\n",
       "      <td>Good case, solid build. Protects phone all aro...</td>\n",
       "      <td>5.0</td>\n",
       "      <td>Solid Case</td>\n",
       "      <td>1380067200</td>\n",
       "      <td>09 25, 2013</td>\n",
       "    </tr>\n",
       "    <tr>\n",
       "      <th>9</th>\n",
       "      <td>A8AJS1DW7L3JJ</td>\n",
       "      <td>3998899561</td>\n",
       "      <td>Agata Majchrzak</td>\n",
       "      <td>[1, 1]</td>\n",
       "      <td>This is a fantastic case. Very stylish and pro...</td>\n",
       "      <td>5.0</td>\n",
       "      <td>Perfect Case</td>\n",
       "      <td>1396483200</td>\n",
       "      <td>04 3, 2014</td>\n",
       "    </tr>\n",
       "  </tbody>\n",
       "</table>\n",
       "</div>\n",
       "      <button class=\"colab-df-convert\" onclick=\"convertToInteractive('df-683124d1-ae79-4ca5-ac3e-89823a0ed7ca')\"\n",
       "              title=\"Convert this dataframe to an interactive table.\"\n",
       "              style=\"display:none;\">\n",
       "        \n",
       "  <svg xmlns=\"http://www.w3.org/2000/svg\" height=\"24px\"viewBox=\"0 0 24 24\"\n",
       "       width=\"24px\">\n",
       "    <path d=\"M0 0h24v24H0V0z\" fill=\"none\"/>\n",
       "    <path d=\"M18.56 5.44l.94 2.06.94-2.06 2.06-.94-2.06-.94-.94-2.06-.94 2.06-2.06.94zm-11 1L8.5 8.5l.94-2.06 2.06-.94-2.06-.94L8.5 2.5l-.94 2.06-2.06.94zm10 10l.94 2.06.94-2.06 2.06-.94-2.06-.94-.94-2.06-.94 2.06-2.06.94z\"/><path d=\"M17.41 7.96l-1.37-1.37c-.4-.4-.92-.59-1.43-.59-.52 0-1.04.2-1.43.59L10.3 9.45l-7.72 7.72c-.78.78-.78 2.05 0 2.83L4 21.41c.39.39.9.59 1.41.59.51 0 1.02-.2 1.41-.59l7.78-7.78 2.81-2.81c.8-.78.8-2.07 0-2.86zM5.41 20L4 18.59l7.72-7.72 1.47 1.35L5.41 20z\"/>\n",
       "  </svg>\n",
       "      </button>\n",
       "      \n",
       "  <style>\n",
       "    .colab-df-container {\n",
       "      display:flex;\n",
       "      flex-wrap:wrap;\n",
       "      gap: 12px;\n",
       "    }\n",
       "\n",
       "    .colab-df-convert {\n",
       "      background-color: #E8F0FE;\n",
       "      border: none;\n",
       "      border-radius: 50%;\n",
       "      cursor: pointer;\n",
       "      display: none;\n",
       "      fill: #1967D2;\n",
       "      height: 32px;\n",
       "      padding: 0 0 0 0;\n",
       "      width: 32px;\n",
       "    }\n",
       "\n",
       "    .colab-df-convert:hover {\n",
       "      background-color: #E2EBFA;\n",
       "      box-shadow: 0px 1px 2px rgba(60, 64, 67, 0.3), 0px 1px 3px 1px rgba(60, 64, 67, 0.15);\n",
       "      fill: #174EA6;\n",
       "    }\n",
       "\n",
       "    [theme=dark] .colab-df-convert {\n",
       "      background-color: #3B4455;\n",
       "      fill: #D2E3FC;\n",
       "    }\n",
       "\n",
       "    [theme=dark] .colab-df-convert:hover {\n",
       "      background-color: #434B5C;\n",
       "      box-shadow: 0px 1px 3px 1px rgba(0, 0, 0, 0.15);\n",
       "      filter: drop-shadow(0px 1px 2px rgba(0, 0, 0, 0.3));\n",
       "      fill: #FFFFFF;\n",
       "    }\n",
       "  </style>\n",
       "\n",
       "      <script>\n",
       "        const buttonEl =\n",
       "          document.querySelector('#df-683124d1-ae79-4ca5-ac3e-89823a0ed7ca button.colab-df-convert');\n",
       "        buttonEl.style.display =\n",
       "          google.colab.kernel.accessAllowed ? 'block' : 'none';\n",
       "\n",
       "        async function convertToInteractive(key) {\n",
       "          const element = document.querySelector('#df-683124d1-ae79-4ca5-ac3e-89823a0ed7ca');\n",
       "          const dataTable =\n",
       "            await google.colab.kernel.invokeFunction('convertToInteractive',\n",
       "                                                     [key], {});\n",
       "          if (!dataTable) return;\n",
       "\n",
       "          const docLinkHtml = 'Like what you see? Visit the ' +\n",
       "            '<a target=\"_blank\" href=https://colab.research.google.com/notebooks/data_table.ipynb>data table notebook</a>'\n",
       "            + ' to learn more about interactive tables.';\n",
       "          element.innerHTML = '';\n",
       "          dataTable['output_type'] = 'display_data';\n",
       "          await google.colab.output.renderOutput(dataTable, element);\n",
       "          const docLink = document.createElement('div');\n",
       "          docLink.innerHTML = docLinkHtml;\n",
       "          element.appendChild(docLink);\n",
       "        }\n",
       "      </script>\n",
       "    </div>\n",
       "  </div>\n",
       "  "
      ],
      "text/plain": [
       "       reviewerID        asin      reviewerName helpful  \\\n",
       "0  A30TL5EWN6DFXT  120401325X         christina  [0, 0]   \n",
       "1   ASY55RVNIL0UD  120401325X          emily l.  [0, 0]   \n",
       "2  A2TMXE2AFO7ONB  120401325X             Erica  [0, 0]   \n",
       "3   AWJ0WZQYMYFQ4  120401325X                JM  [4, 4]   \n",
       "4   ATX7CZYFXI1KW  120401325X  patrice m rogoza  [2, 3]   \n",
       "5   APX47D16JOP7H  120401325X               RLH  [1, 2]   \n",
       "6  A1JVVYYO7G56DS  120401325X       Tyler Evans  [0, 0]   \n",
       "7   A6FGO4TBZ3QFZ  3998899561  Abdullah Albyati  [1, 2]   \n",
       "8  A2JWEDW5FSVB0F  3998899561              Adam  [2, 3]   \n",
       "9   A8AJS1DW7L3JJ  3998899561   Agata Majchrzak  [1, 1]   \n",
       "\n",
       "                                          reviewText  overall  \\\n",
       "0  They look good and stick good! I just don't li...      4.0   \n",
       "1  These stickers work like the review says they ...      5.0   \n",
       "2  These are awesome and make my phone look so st...      5.0   \n",
       "3  Item arrived in great time and was in perfect ...      4.0   \n",
       "4  awesome! stays on, and looks great. can be use...      5.0   \n",
       "5  These make using the home button easy. My daug...      3.0   \n",
       "6  Came just as described.. It doesn't come unstu...      5.0   \n",
       "7  it worked for the first week then it only char...      1.0   \n",
       "8  Good case, solid build. Protects phone all aro...      5.0   \n",
       "9  This is a fantastic case. Very stylish and pro...      5.0   \n",
       "\n",
       "                                     summary  unixReviewTime   reviewTime  \n",
       "0                                 Looks Good      1400630400  05 21, 2014  \n",
       "1                      Really great product.      1389657600  01 14, 2014  \n",
       "2                             LOVE LOVE LOVE      1403740800  06 26, 2014  \n",
       "3                                      Cute!      1382313600  10 21, 2013  \n",
       "4  leopard home button sticker for iphone 4s      1359849600   02 3, 2013  \n",
       "5                                       Cute      1381536000  10 12, 2013  \n",
       "6                          best thing ever..      1377129600  08 22, 2013  \n",
       "7                            not a good Idea      1384992000  11 21, 2013  \n",
       "8                                 Solid Case      1380067200  09 25, 2013  \n",
       "9                               Perfect Case      1396483200   04 3, 2014  "
      ]
     },
     "execution_count": 4,
     "metadata": {},
     "output_type": "execute_result"
    }
   ],
   "source": [
    "import json\n",
    "\n",
    "ReviewList = []\n",
    "data = open('/content/drive/MyDrive/Colab Notebooks/reviews.json','r').readlines()\n",
    "result = []\n",
    "for ele in data:\n",
    "    result.append(json.loads(ele))\n",
    "    \n",
    "df = pd.DataFrame.from_dict(result, orient='columns')\n",
    "df.head(10)"
   ]
  },
  {
   "cell_type": "code",
   "execution_count": 5,
   "metadata": {
    "colab": {
     "base_uri": "https://localhost:8080/",
     "height": 206
    },
    "id": "hIb5RwVIxKbn",
    "outputId": "a413e8fb-241d-4f1e-cccc-5785c8e5cdc5"
   },
   "outputs": [
    {
     "data": {
      "text/html": [
       "\n",
       "  <div id=\"df-f79154dc-b59e-4d7e-9983-6421d4d1ebc9\">\n",
       "    <div class=\"colab-df-container\">\n",
       "      <div>\n",
       "<style scoped>\n",
       "    .dataframe tbody tr th:only-of-type {\n",
       "        vertical-align: middle;\n",
       "    }\n",
       "\n",
       "    .dataframe tbody tr th {\n",
       "        vertical-align: top;\n",
       "    }\n",
       "\n",
       "    .dataframe thead th {\n",
       "        text-align: right;\n",
       "    }\n",
       "</style>\n",
       "<table border=\"1\" class=\"dataframe\">\n",
       "  <thead>\n",
       "    <tr style=\"text-align: right;\">\n",
       "      <th></th>\n",
       "      <th>reviewText</th>\n",
       "      <th>overall</th>\n",
       "    </tr>\n",
       "  </thead>\n",
       "  <tbody>\n",
       "    <tr>\n",
       "      <th>0</th>\n",
       "      <td>They look good and stick good! I just don't li...</td>\n",
       "      <td>3.0</td>\n",
       "    </tr>\n",
       "    <tr>\n",
       "      <th>1</th>\n",
       "      <td>These stickers work like the review says they ...</td>\n",
       "      <td>4.0</td>\n",
       "    </tr>\n",
       "    <tr>\n",
       "      <th>2</th>\n",
       "      <td>These are awesome and make my phone look so st...</td>\n",
       "      <td>4.0</td>\n",
       "    </tr>\n",
       "    <tr>\n",
       "      <th>3</th>\n",
       "      <td>Item arrived in great time and was in perfect ...</td>\n",
       "      <td>3.0</td>\n",
       "    </tr>\n",
       "    <tr>\n",
       "      <th>4</th>\n",
       "      <td>awesome! stays on, and looks great. can be use...</td>\n",
       "      <td>4.0</td>\n",
       "    </tr>\n",
       "  </tbody>\n",
       "</table>\n",
       "</div>\n",
       "      <button class=\"colab-df-convert\" onclick=\"convertToInteractive('df-f79154dc-b59e-4d7e-9983-6421d4d1ebc9')\"\n",
       "              title=\"Convert this dataframe to an interactive table.\"\n",
       "              style=\"display:none;\">\n",
       "        \n",
       "  <svg xmlns=\"http://www.w3.org/2000/svg\" height=\"24px\"viewBox=\"0 0 24 24\"\n",
       "       width=\"24px\">\n",
       "    <path d=\"M0 0h24v24H0V0z\" fill=\"none\"/>\n",
       "    <path d=\"M18.56 5.44l.94 2.06.94-2.06 2.06-.94-2.06-.94-.94-2.06-.94 2.06-2.06.94zm-11 1L8.5 8.5l.94-2.06 2.06-.94-2.06-.94L8.5 2.5l-.94 2.06-2.06.94zm10 10l.94 2.06.94-2.06 2.06-.94-2.06-.94-.94-2.06-.94 2.06-2.06.94z\"/><path d=\"M17.41 7.96l-1.37-1.37c-.4-.4-.92-.59-1.43-.59-.52 0-1.04.2-1.43.59L10.3 9.45l-7.72 7.72c-.78.78-.78 2.05 0 2.83L4 21.41c.39.39.9.59 1.41.59.51 0 1.02-.2 1.41-.59l7.78-7.78 2.81-2.81c.8-.78.8-2.07 0-2.86zM5.41 20L4 18.59l7.72-7.72 1.47 1.35L5.41 20z\"/>\n",
       "  </svg>\n",
       "      </button>\n",
       "      \n",
       "  <style>\n",
       "    .colab-df-container {\n",
       "      display:flex;\n",
       "      flex-wrap:wrap;\n",
       "      gap: 12px;\n",
       "    }\n",
       "\n",
       "    .colab-df-convert {\n",
       "      background-color: #E8F0FE;\n",
       "      border: none;\n",
       "      border-radius: 50%;\n",
       "      cursor: pointer;\n",
       "      display: none;\n",
       "      fill: #1967D2;\n",
       "      height: 32px;\n",
       "      padding: 0 0 0 0;\n",
       "      width: 32px;\n",
       "    }\n",
       "\n",
       "    .colab-df-convert:hover {\n",
       "      background-color: #E2EBFA;\n",
       "      box-shadow: 0px 1px 2px rgba(60, 64, 67, 0.3), 0px 1px 3px 1px rgba(60, 64, 67, 0.15);\n",
       "      fill: #174EA6;\n",
       "    }\n",
       "\n",
       "    [theme=dark] .colab-df-convert {\n",
       "      background-color: #3B4455;\n",
       "      fill: #D2E3FC;\n",
       "    }\n",
       "\n",
       "    [theme=dark] .colab-df-convert:hover {\n",
       "      background-color: #434B5C;\n",
       "      box-shadow: 0px 1px 3px 1px rgba(0, 0, 0, 0.15);\n",
       "      filter: drop-shadow(0px 1px 2px rgba(0, 0, 0, 0.3));\n",
       "      fill: #FFFFFF;\n",
       "    }\n",
       "  </style>\n",
       "\n",
       "      <script>\n",
       "        const buttonEl =\n",
       "          document.querySelector('#df-f79154dc-b59e-4d7e-9983-6421d4d1ebc9 button.colab-df-convert');\n",
       "        buttonEl.style.display =\n",
       "          google.colab.kernel.accessAllowed ? 'block' : 'none';\n",
       "\n",
       "        async function convertToInteractive(key) {\n",
       "          const element = document.querySelector('#df-f79154dc-b59e-4d7e-9983-6421d4d1ebc9');\n",
       "          const dataTable =\n",
       "            await google.colab.kernel.invokeFunction('convertToInteractive',\n",
       "                                                     [key], {});\n",
       "          if (!dataTable) return;\n",
       "\n",
       "          const docLinkHtml = 'Like what you see? Visit the ' +\n",
       "            '<a target=\"_blank\" href=https://colab.research.google.com/notebooks/data_table.ipynb>data table notebook</a>'\n",
       "            + ' to learn more about interactive tables.';\n",
       "          element.innerHTML = '';\n",
       "          dataTable['output_type'] = 'display_data';\n",
       "          await google.colab.output.renderOutput(dataTable, element);\n",
       "          const docLink = document.createElement('div');\n",
       "          docLink.innerHTML = docLinkHtml;\n",
       "          element.appendChild(docLink);\n",
       "        }\n",
       "      </script>\n",
       "    </div>\n",
       "  </div>\n",
       "  "
      ],
      "text/plain": [
       "                                          reviewText  overall\n",
       "0  They look good and stick good! I just don't li...      3.0\n",
       "1  These stickers work like the review says they ...      4.0\n",
       "2  These are awesome and make my phone look so st...      4.0\n",
       "3  Item arrived in great time and was in perfect ...      3.0\n",
       "4  awesome! stays on, and looks great. can be use...      4.0"
      ]
     },
     "execution_count": 5,
     "metadata": {},
     "output_type": "execute_result"
    }
   ],
   "source": [
    "review_df = df[['reviewText','overall']]\n",
    "review_df['overall'] = review_df['overall']-1\n",
    "review_df.head()"
   ]
  },
  {
   "cell_type": "code",
   "execution_count": 7,
   "metadata": {
    "colab": {
     "base_uri": "https://localhost:8080/",
     "height": 279
    },
    "id": "msocMJ6M1qvN",
    "outputId": "ba3b1b32-c7f0-45e3-fe4f-250b957b2641"
   },
   "outputs": [
    {
     "data": {
      "image/png": "[encoded data removed]",
      "text/plain": [
       "<Figure size 432x288 with 1 Axes>"
      ]
     },
     "metadata": {
      "needs_background": "light"
     },
     "output_type": "display_data"
    }
   ],
   "source": [
    "re_wordMatcher = re.compile(r'[a-z0-9]+') #Declare regex to extract words\n",
    "numWords = review_df[\"reviewText\"].map(lambda x: len(re_wordMatcher.findall(x.lower())))\n",
    "g = sns.boxplot(numWords)"
   ]
  },
  {
   "cell_type": "code",
   "execution_count": 8,
   "metadata": {
    "colab": {
     "base_uri": "https://localhost:8080/"
    },
    "id": "R9P-wuU71tJH",
    "outputId": "1d23edda-4bbf-4b3b-826f-6593fb53ebce"
   },
   "outputs": [
    {
     "name": "stdout",
     "output_type": "stream",
     "text": [
      "90th quantile of review length: 214.0\n"
     ]
    }
   ],
   "source": [
    "reviewLen90 = np.quantile(numWords, 0.90)\n",
    "print(\"90th quantile of review length:\", reviewLen90)"
   ]
  },
  {
   "cell_type": "code",
   "execution_count": 10,
   "metadata": {
    "colab": {
     "base_uri": "https://localhost:8080/"
    },
    "id": "6heS92DJ1wnm",
    "outputId": "80bfcd8b-ac39-4a4b-f31d-bf59ec2e90b8"
   },
   "outputs": [
    {
     "name": "stdout",
     "output_type": "stream",
     "text": [
      "Shape of train and test dataframes: (155551, 2) (38888, 2)\n"
     ]
    }
   ],
   "source": [
    "maxlen = 214\n",
    "\n",
    "skf = StratifiedKFold(n_splits=5)\n",
    "for trn_idx, tst_idx in skf.split(review_df['reviewText'],review_df['overall']):\n",
    "    break\n",
    "\n",
    "train_df, test_df = review_df.iloc[trn_idx], review_df.iloc[tst_idx]\n",
    "\n",
    "print(\"Shape of train and test dataframes:\", train_df.shape, test_df.shape)"
   ]
  },
  {
   "cell_type": "code",
   "execution_count": 11,
   "metadata": {
    "colab": {
     "base_uri": "https://localhost:8080/"
    },
    "id": "PSiwuTcb1yYm",
    "outputId": "658505c9-5c42-4686-c594-c73df9c3dc99"
   },
   "outputs": [
    {
     "name": "stdout",
     "output_type": "stream",
     "text": [
      "Collecting wget\n",
      "  Downloading wget-3.2.zip (10 kB)\n",
      "Building wheels for collected packages: wget\n",
      "  Building wheel for wget (setup.py) ... \u001b[?25l\u001b[?25hdone\n",
      "  Created wheel for wget: filename=wget-3.2-py3-none-any.whl size=9675 sha256=97b1880c597e1c1b58046d1fee32c7e98be8e005eba4ef68dfa68d6b2971d10d\n",
      "  Stored in directory: /root/.cache/pip/wheels/a1/b6/7c/0e63e34eb06634181c63adacca38b79ff8f35c37e3c13e3c02\n",
      "Successfully built wget\n",
      "Installing collected packages: wget\n",
      "Successfully installed wget-3.2\n",
      "Word2Vec file does not exist and needs to be downloaded\n",
      "Downloading from https://dl.fbaipublicfiles.com/arrival/vectors/wiki.multi.en.vec\n"
     ]
    }
   ],
   "source": [
    "!pip install wget\n",
    "import wget\n",
    "word2VecFile = os.path.join(os.curdir, 'wiki.multi.en.vec')\n",
    "\n",
    "if os.path.exists(word2VecFile):\n",
    "    print('Word2Vec file has been found and is being loaded...')\n",
    "else:    \n",
    "    print('Word2Vec file does not exist and needs to be downloaded')\n",
    "    url = 'https://dl.fbaipublicfiles.com/arrival/vectors/wiki.multi.en.vec'\n",
    "    wget.download(url)\n",
    "    print('Downloading from', url)\n",
    "en_model = KeyedVectors.load_word2vec_format('wiki.multi.en.vec')"
   ]
  },
  {
   "cell_type": "code",
   "execution_count": 12,
   "metadata": {
    "colab": {
     "base_uri": "https://localhost:8080/"
    },
    "id": "gJ27LBn010SF",
    "outputId": "9d75e700-e496-4d5c-e90a-77b2f2e4e67b"
   },
   "outputs": [
    {
     "name": "stdout",
     "output_type": "stream",
     "text": [
      "Vocab size in pretrained model: 200000\n"
     ]
    }
   ],
   "source": [
    "embeddingDim = 300\n",
    "\n",
    "vocab = list(en_model.vocab.keys())\n",
    "print(\"Vocab size in pretrained model:\", len(vocab))\n",
    "\n",
    "# check if the word 'and' is present in the pretrained model\n",
    "assert \"and\" in en_model\n",
    "\n",
    "# check the dimension of the word vectors\n",
    "assert embeddingDim == len(en_model[\"and\"])\n",
    "\n",
    "# initialize a numpy matrix which will store the word vectors\n",
    "# first row is for the padding token\n",
    "pretrained_weights = np.zeros((1+len(vocab), embeddingDim))\n",
    "\n",
    "# tqdm just adds a progress bar\n",
    "for i, token in enumerate(vocab):\n",
    "    pretrained_weights[i, :] = en_model[token]\n",
    "\n",
    "# map tokens in the vocab to ids\n",
    "vocab = dict(zip(vocab, range(1, len(vocab)+1)))"
   ]
  },
  {
   "cell_type": "code",
   "execution_count": 13,
   "metadata": {
    "id": "LdZB8hRb1103"
   },
   "outputs": [],
   "source": [
    "def reviewText2Features(reviewText):\n",
    "    X = []\n",
    "    \n",
    "    reviewWords = re_wordMatcher.findall(reviewText.lower())\n",
    "    \n",
    "    for i, word in enumerate(reviewWords):\n",
    "        if word not in en_model:\n",
    "            continue\n",
    "        if i >= maxlen:\n",
    "            break\n",
    "        # X.append(en_model[word])\n",
    "        X.append(vocab[word])\n",
    "\n",
    "    if len(X) < maxlen:\n",
    "        # zero_padding = [[0.]*embeddingDim]*(maxlen - len(X))\n",
    "        zero_padding = [0.]*(maxlen - len(X))\n",
    "        X = zero_padding + X\n",
    "    \n",
    "    return X # np.array(X)\n",
    "        \n",
    "def row2Features(row):   \n",
    "    \n",
    "    X = reviewText2Features(row[\"reviewText\"])\n",
    "    y = row[\"overall\"]\n",
    "        \n",
    "    return X, y"
   ]
  },
  {
   "cell_type": "code",
   "execution_count": 14,
   "metadata": {
    "colab": {
     "base_uri": "https://localhost:8080/"
    },
    "id": "GIJOYjO913SO",
    "outputId": "6594f593-5249-4fab-bc49-4cfe05ad8f71"
   },
   "outputs": [
    {
     "name": "stdout",
     "output_type": "stream",
     "text": [
      "Review: They look good and stick good! I just don't like the rounded shape because I was always bumping it and Siri kept popping up and it was irritating. I just won't buy a product like this again\n",
      "Rating: 3.0\n",
      "Review words: ['they', 'look', 'good', 'and', 'stick', 'good', 'i', 'just', 'don', 't', 'like', 'the', 'rounded', 'shape', 'because', 'i', 'was', 'always', 'bumping', 'it', 'and', 'siri', 'kept', 'popping', 'up', 'and', 'it', 'was', 'irritating', 'i', 'just', 'won', 't', 'buy', 'a', 'product', 'like', 'this', 'again']\n"
     ]
    }
   ],
   "source": [
    "sampleRow = review_df.iloc[0]\n",
    "reviewWords = re_wordMatcher.findall(sampleRow[\"reviewText\"].lower())\n",
    "print(\"Review:\", sampleRow[\"reviewText\"])\n",
    "print(\"Rating:\", sampleRow[\"overall\"])\n",
    "#print(\"Sentiment:\", sampleRow[\"Sentiment\"])\n",
    "print(\"Review words:\", reviewWords)"
   ]
  },
  {
   "cell_type": "code",
   "execution_count": 15,
   "metadata": {
    "colab": {
     "base_uri": "https://localhost:8080/"
    },
    "id": "b1qgcp3314ze",
    "outputId": "9213f5d8-cdaf-4ef6-e4b9-093831acfd69"
   },
   "outputs": [
    {
     "name": "stdout",
     "output_type": "stream",
     "text": [
      "Dimension of X: 214\n",
      "Label y: 3.0\n"
     ]
    }
   ],
   "source": [
    "X, y = row2Features(sampleRow)\n",
    "print(\"Dimension of X:\", len(X))\n",
    "print(\"Label y:\", y)"
   ]
  },
  {
   "cell_type": "code",
   "execution_count": 16,
   "metadata": {
    "id": "OAdnRh8T17Je"
   },
   "outputs": [],
   "source": [
    "def shuffleArray(X, y):\n",
    "    idx = np.arange(X.shape[0])\n",
    "    np.random.shuffle(idx)\n",
    "    X = X[idx, :]\n",
    "    y = y[idx]\n",
    "    return X, y\n",
    "\n",
    "def generateModelReadyData(data, batchSize = 128, shuffle=False):\n",
    "    \n",
    "    while(True):\n",
    "        X = []\n",
    "        y = []\n",
    "        for _, row in data.iterrows():\n",
    "            \"\"\"Generate features and label for this row\"\"\"\n",
    "            X_, y_ = row2Features(row)\n",
    "\n",
    "            \"\"\"Keep accumulating the row-wise features\"\"\"\n",
    "            X.append(X_)\n",
    "            y.append(y_)   \n",
    "\n",
    "            \"\"\"If number of rows processed is greater than batchSize yield the batch and trim down X & y\n",
    "            Note: This way we avoid running into memory issues by not bloating X and y bigger and bigger\n",
    "            \"\"\"\n",
    "            if len(X) > batchSize:\n",
    "                temp_X, temp_y = np.array(X[:batchSize]), np.array(y[:batchSize])\n",
    "                if shuffle:\n",
    "                    temp_X, temp_y = shuffleArray(temp_X, temp_y)\n",
    "                \n",
    "                X, y = X[batchSize:], y[batchSize:]                    \n",
    "                yield temp_X, temp_y\n",
    "\n",
    "        \"\"\"Yield the remaining few rows when number of rows in data isn't a mutiple of batchSize\"\"\"\n",
    "        if len(X) > 0:\n",
    "            temp_X, temp_y = np.array(X), np.array(y)\n",
    "            if shuffle:\n",
    "                temp_X, temp_y = shuffleArray(temp_X, temp_y)\n",
    "            \n",
    "            yield temp_X, temp_y"
   ]
  },
  {
   "cell_type": "code",
   "execution_count": 17,
   "metadata": {
    "colab": {
     "base_uri": "https://localhost:8080/"
    },
    "id": "70may1Fw18FO",
    "outputId": "a394e04f-c375-4fa6-c2e1-28896bd1dbdb"
   },
   "outputs": [
    {
     "name": "stdout",
     "output_type": "stream",
     "text": [
      "Batch: 0\n",
      "Shape of X & y matches expected values\n",
      "Batch: 1\n",
      "Shape of X & y matches expected values\n",
      "Batch: 2\n",
      "Shape of X & y matches expected values\n"
     ]
    }
   ],
   "source": [
    "numBatches = 0\n",
    "for i, (X, y) in enumerate(generateModelReadyData(review_df, batchSize=128, shuffle=True)):\n",
    "    if numBatches >= 3:\n",
    "        break\n",
    "    \n",
    "    else:\n",
    "        print(\"Batch:\", i)\n",
    "        assert X.shape == (128, maxlen)\n",
    "        assert y.shape == (128,)\n",
    "        print(\"Shape of X & y matches expected values\")\n",
    "    numBatches += 1"
   ]
  },
  {
   "cell_type": "code",
   "execution_count": 18,
   "metadata": {
    "colab": {
     "base_uri": "https://localhost:8080/"
    },
    "id": "LgtD3mAP19gm",
    "outputId": "c367523f-bfe1-4112-ae0f-461670e749b7"
   },
   "outputs": [
    {
     "name": "stdout",
     "output_type": "stream",
     "text": [
      "cuda available\n"
     ]
    }
   ],
   "source": [
    "# torch.cuda.is_available() checks and returns a Boolean True if a GPU is available, else it'll return False\n",
    "is_cuda = torch.cuda.is_available()\n",
    "\n",
    "# If we have a GPU available, we'll set our device to GPU. We'll use this device variable later in our code.\n",
    "if is_cuda:\n",
    "    print(\"cuda available\")\n",
    "    device = torch.device(\"cuda\")\n",
    "else:\n",
    "    device = torch.device(\"cpu\")"
   ]
  },
  {
   "cell_type": "code",
   "execution_count": 57,
   "metadata": {
    "id": "T168wRI22BnO"
   },
   "outputs": [],
   "source": [
    "class SentimentNet(nn.Module):\n",
    "    def __init__(self, embedding_dim, hidden_dim, vocab_size, pretrained_weights):\n",
    "        super(SentimentNet, self).__init__()\n",
    "        self.embedding=nn.Embedding(vocab_size, embedding_dim)\n",
    "        self.embedding.weight.data.copy_(torch.from_numpy(pretrained_weights))\n",
    "        self.sentInputDropout = nn.Dropout(0.1)\n",
    "        self.biLSTM1 = nn.LSTM(embedding_dim, hidden_dim[0], bidirectional=True, batch_first=True)\n",
    "        self.biLSTMDropOut = nn.Dropout(0.1)\n",
    "        self.dense1 = nn.Linear(2*hidden_dim[0], 50)\n",
    "        self.relu1 = nn.ReLU()\n",
    "        self.dropout2 = nn.Dropout(0.1)\n",
    "        self.outputLayer = nn.Linear(50, 5)\n",
    "        \n",
    "    def forward(self, x):\n",
    "        \n",
    "        batch_len = x.shape[0]\n",
    "        out = self.embedding(x)\n",
    "        out = self.sentInputDropout(out)\n",
    "        out, hidden = self.biLSTM1(out)\n",
    "        out = self.biLSTMDropOut(out)\n",
    "        out = self.dense1(out)\n",
    "        out = self.relu1(out)\n",
    "        out = self.dropout2(out)\n",
    "        out = self.outputLayer(out)\n",
    "        #out = out.view(batch_len, -1)\n",
    "        out = out[:,-1]\n",
    "        return out    "
   ]
  },
  {
   "cell_type": "code",
   "execution_count": 58,
   "metadata": {
    "colab": {
     "base_uri": "https://localhost:8080/"
    },
    "id": "mSrCltzo2DTd",
    "outputId": "c7837e7a-eb9d-4995-d9c4-6022fe617ba3"
   },
   "outputs": [
    {
     "data": {
      "text/plain": [
       "SentimentNet(\n",
       "  (embedding): Embedding(200001, 300)\n",
       "  (sentInputDropout): Dropout(p=0.1, inplace=False)\n",
       "  (biLSTM1): LSTM(300, 100, batch_first=True, bidirectional=True)\n",
       "  (biLSTMDropOut): Dropout(p=0.1, inplace=False)\n",
       "  (dense1): Linear(in_features=200, out_features=50, bias=True)\n",
       "  (relu1): ReLU()\n",
       "  (dropout2): Dropout(p=0.1, inplace=False)\n",
       "  (outputLayer): Linear(in_features=50, out_features=5, bias=True)\n",
       ")"
      ]
     },
     "execution_count": 58,
     "metadata": {},
     "output_type": "execute_result"
    }
   ],
   "source": [
    "model = SentimentNet(embeddingDim, [100], 1+len(vocab), pretrained_weights)\n",
    "model.to(device)"
   ]
  },
  {
   "cell_type": "code",
   "execution_count": 59,
   "metadata": {
    "id": "LQTg8gqp2E0B"
   },
   "outputs": [],
   "source": [
    "lr=0.05\n",
    "criterion = nn.CrossEntropyLoss()\n",
    "optimizer = torch.optim.Adamax(model.parameters(), lr=lr)"
   ]
  },
  {
   "cell_type": "code",
   "execution_count": 60,
   "metadata": {
    "colab": {
     "base_uri": "https://localhost:8080/"
    },
    "id": "IyzOAfy-2kW1",
    "outputId": "c5ba84f7-2e47-4c34-8065-e2e68c25329f"
   },
   "outputs": [
    {
     "name": "stdout",
     "output_type": "stream",
     "text": [
      "Epoch: 1\n",
      "Running a pass over the training data...\n",
      "Batches completed: 100\n",
      "Batches completed: 200\n",
      "Batches completed: 300\n",
      "Batches completed: 400\n",
      "Batches completed: 500\n",
      "Batches completed: 600\n",
      "Batches completed: 700\n",
      "Batches completed: 800\n",
      "Batches completed: 900\n",
      "Batches completed: 1000\n",
      "Batches completed: 1100\n",
      "Batches completed: 1200\n",
      "Batches completed: 1217\n",
      "Running a pass over the test data...\n",
      "Batches completed: 100\n",
      "Batches completed: 200\n",
      "Batches completed: 300\n",
      "Batches completed: 305\n",
      "Epoch: 1/1... Step: 1216... Loss: 0.368505... Val Loss: 1.193968\n",
      "Validation loss decreased (inf --> 1.193968).  Saving model ...\n"
     ]
    }
   ],
   "source": [
    "epochs = 1\n",
    "counter = 0\n",
    "print_every = 500\n",
    "clip = 5\n",
    "valid_loss_min = np.Inf\n",
    "\n",
    "model = model.float()\n",
    "model.train()\n",
    "for i in range(epochs):\n",
    "    print(\"Running a pass over the training data...\")\n",
    "    for j, (inputs, labels) in enumerate(generateModelReadyData(train_df, batchSize=128, shuffle=True)):\n",
    "        if j >= np.ceil(train_df.shape[0]/128):\n",
    "            break\n",
    "        \n",
    "    #for inputs, labels in train_loader:\n",
    "        counter += 1\n",
    "        inputs, labels = torch.from_numpy(inputs), torch.from_numpy(labels)\n",
    "        inputs, labels = inputs.to(device), labels.to(device)\n",
    "        optimizer.zero_grad()\n",
    "        output = model(inputs.long())\n",
    "        loss = criterion(output, labels.type(torch.LongTensor).to(device))\n",
    "        loss.backward()\n",
    "        nn.utils.clip_grad_norm_(model.parameters(), clip)\n",
    "        optimizer.step()        \n",
    "        if (j+1) % 100 == 0:\n",
    "            print(\"Batches completed:\", j+1)\n",
    "    \n",
    "    print(\"Batches completed:\", j+1)\n",
    "    val_losses = []\n",
    "    model.eval()\n",
    "    print(\"Running a pass over the test data...\")\n",
    "    for k, (inp, lab) in enumerate(generateModelReadyData(test_df, batchSize=128, shuffle=False)):\n",
    "        if k >= np.ceil(test_df.shape[0]/128):\n",
    "            break\n",
    "    #for inp, lab in val_loader:\n",
    "        inp, lab = torch.from_numpy(inp), torch.from_numpy(lab)\n",
    "        inp, lab = inp.to(device), lab.to(device)\n",
    "        out = model(inp.long())\n",
    "        val_loss = criterion(out.squeeze(), lab.type(torch.LongTensor).to(device))\n",
    "        val_losses.append(val_loss.item())\n",
    "        if (k+1) % 100 == 0:\n",
    "            print(\"Batches completed:\", k+1)\n",
    "    \n",
    "    print(\"Batches completed:\", k+1)\n",
    "\n",
    "    model.train()\n",
    "    print(\"Epoch: {}/{}...\".format(i+1, epochs),\n",
    "          \"Step: {}...\".format(counter),\n",
    "          \"Loss: {:.6f}...\".format(loss.item()),\n",
    "          \"Val Loss: {:.6f}\".format(np.mean(val_losses)))\n",
    "    if np.mean(val_losses) <= valid_loss_min:\n",
    "        torch.save(model.state_dict(), './state_dict.pt')\n",
    "        print('Validation loss decreased ({:.6f} --> {:.6f}).  Saving model ...'.format(valid_loss_min,np.mean(val_losses)))\n",
    "        valid_loss_min = np.mean(val_losses)"
   ]
  },
  {
   "cell_type": "code",
   "execution_count": 48,
   "metadata": {
    "colab": {
     "base_uri": "https://localhost:8080/"
    },
    "id": "6L7WdNmH2yP2",
    "outputId": "dd461e63-f794-422a-c155-8a450e6b1ffa"
   },
   "outputs": [
    {
     "data": {
      "text/plain": [
       "SentimentNet(\n",
       "  (embedding): Embedding(200001, 300)\n",
       "  (sentInputDropout): Dropout(p=0.1, inplace=False)\n",
       "  (biLSTM1): LSTM(300, 100, batch_first=True, bidirectional=True)\n",
       "  (biLSTMDropOut): Dropout(p=0.1, inplace=False)\n",
       "  (dense1): Linear(in_features=200, out_features=50, bias=True)\n",
       "  (relu1): ReLU()\n",
       "  (dropout2): Dropout(p=0.1, inplace=False)\n",
       "  (outputLayer): Linear(in_features=50, out_features=5, bias=True)\n",
       ")"
      ]
     },
     "execution_count": 48,
     "metadata": {},
     "output_type": "execute_result"
    }
   ],
   "source": [
    "\"\"\"\n",
    "At this point we can load a pretrained model which was trained for 5 epochs and make predictions using it.\n",
    "Uncomment and run the below line to load the pretrained model\n",
    "\"\"\"\n",
    "model.load_state_dict(torch.load('./state_dict.pt'))\n",
    "model.to(device)"
   ]
  },
  {
   "cell_type": "code",
   "execution_count": 61,
   "metadata": {
    "colab": {
     "base_uri": "https://localhost:8080/"
    },
    "id": "6hwpRSyz21jp",
    "outputId": "8e8a132f-32f5-4061-9eab-a216e24bcba6"
   },
   "outputs": [
    {
     "name": "stdout",
     "output_type": "stream",
     "text": [
      "Batches completed: 100\n",
      "Batches completed: 200\n",
      "Batches completed: 300\n",
      "Batches completed: 305\n",
      "Test loss: 1.194\n",
      "Test accuracy: 55.886%\n"
     ]
    }
   ],
   "source": [
    "test_losses = []\n",
    "num_correct = 0\n",
    "pred_proba = []\n",
    "actual = []\n",
    "\n",
    "model.eval()\n",
    "for j, (X_test, y_test) in enumerate(generateModelReadyData(test_df, batchSize=128)):\n",
    "    if j >= np.ceil(test_df.shape[0]/128):\n",
    "        break\n",
    "    \n",
    "    inputs_test, labels_test = torch.from_numpy(X_test), torch.from_numpy(y_test)\n",
    "    inputs_test, labels_test = inputs_test.to(device), labels_test.to(device)\n",
    "    output_test = model(inputs_test.long())\n",
    "    test_loss = criterion(output_test.squeeze(), labels_test.type(torch.LongTensor).to(device))\n",
    "    test_losses.append(test_loss.item())\n",
    "    _, predicted = torch.max(output_test, 1) \n",
    "    correct_tensor = predicted.eq(labels_test.long())\n",
    "    correct = np.squeeze(correct_tensor.cpu().numpy())\n",
    "    num_correct += np.sum(correct)\n",
    "    pred_proba.extend(output_test.cpu().squeeze().detach().numpy())\n",
    "    actual.extend(y_test)\n",
    "    \n",
    "    if (j+1) % 100 == 0:\n",
    "        print(\"Batches completed:\", j+1)\n",
    "\n",
    "print(\"Batches completed:\", j+1)\n",
    "\n",
    "print(\"Test loss: {:.3f}\".format(np.mean(test_losses)))\n",
    "test_acc = num_correct/len(test_df)\n",
    "print(\"Test accuracy: {:.3f}%\".format(test_acc*100))"
   ]
  }
 ],
 "metadata": {
  "accelerator": "GPU",
  "colab": {
   "collapsed_sections": [],
   "name": "Untitled1(1).ipynb",
   "provenance": []
  },
  "kernelspec": {
   "display_name": "Python 3",
   "language": "python",
   "name": "python3"
  },
  "language_info": {
   "codemirror_mode": {
    "name": "ipython",
    "version": 3
   },
   "file_extension": ".py",
   "mimetype": "text/x-python",
   "name": "python",
   "nbconvert_exporter": "python",
   "pygments_lexer": "ipython3",
   "version": "3.8.8"
  }
 },
 "nbformat": 4,
 "nbformat_minor": 1
}
